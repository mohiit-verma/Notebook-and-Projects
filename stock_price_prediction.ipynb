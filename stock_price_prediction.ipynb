{
  "nbformat": 4,
  "nbformat_minor": 0,
  "metadata": {
    "colab": {
      "name": "stock_price_prediction.ipynb",
      "provenance": []
    },
    "kernelspec": {
      "name": "python3",
      "display_name": "Python 3"
    },
    "language_info": {
      "name": "python"
    }
  },
  "cells": [
    {
      "cell_type": "markdown",
      "metadata": {
        "id": "2qUWStO_r0Uh"
      },
      "source": [
        "This Notebook is prepared to analyze, visualiza and predict the stocks price using the time series recurrent neural network technique (LSTM) using the past 60 days closing stock price. "
      ]
    },
    {
      "cell_type": "code",
      "metadata": {
        "id": "EdCLuTRtX-f8"
      },
      "source": [
        "#pip install yfinance --upgrade --no-cache-dir\n"
      ],
      "execution_count": null,
      "outputs": []
    },
    {
      "cell_type": "code",
      "metadata": {
        "id": "rRpzMRK1Y2I1"
      },
      "source": [
        "\n",
        "# importing all necessory libraries\n",
        "%matplotlib inline\n",
        "import os\n",
        "import math\n",
        "import yfinance as yf\n",
        "import pandas_datareader.data as web\n",
        "from datetime import datetime\n",
        "import datetime as dt\n",
        "import pandas as pd\n",
        "import numpy as np\n",
        "import matplotlib.pyplot as plt\n",
        "from matplotlib.pyplot import figure\n",
        "import seaborn as sns\n",
        "import pandas as pd\n",
        "import matplotlib.dates as mpl_dates\n",
        "from sklearn.preprocessing import MinMaxScaler\n",
        "from tensorflow.keras import Sequential\n",
        "\n"
      ],
      "execution_count": 179,
      "outputs": []
    },
    {
      "cell_type": "code",
      "metadata": {
        "colab": {
          "base_uri": "https://localhost:8080/",
          "height": 252
        },
        "id": "iwm36_fkjeq0",
        "outputId": "d2ba4fe5-19fc-45d4-a2fa-27b939a4e3ea"
      },
      "source": [
        "# Set the start and end date\n",
        "start_date = '2012-01-01'\n",
        "end_date = '2021-07-12'\n",
        "\n",
        "# Set the ticker\n",
        "ticker = 'AAPL'\n",
        "\n",
        "# Get the data\n",
        "df = yf.download(ticker, start_date, end_date)\n",
        "\n",
        "# Print 5 rows for earliest prices\n",
        "df.tail()"
      ],
      "execution_count": 180,
      "outputs": [
        {
          "output_type": "stream",
          "text": [
            "\r[*********************100%***********************]  1 of 1 completed\n"
          ],
          "name": "stdout"
        },
        {
          "output_type": "execute_result",
          "data": {
            "text/html": [
              "<div>\n",
              "<style scoped>\n",
              "    .dataframe tbody tr th:only-of-type {\n",
              "        vertical-align: middle;\n",
              "    }\n",
              "\n",
              "    .dataframe tbody tr th {\n",
              "        vertical-align: top;\n",
              "    }\n",
              "\n",
              "    .dataframe thead th {\n",
              "        text-align: right;\n",
              "    }\n",
              "</style>\n",
              "<table border=\"1\" class=\"dataframe\">\n",
              "  <thead>\n",
              "    <tr style=\"text-align: right;\">\n",
              "      <th></th>\n",
              "      <th>Open</th>\n",
              "      <th>High</th>\n",
              "      <th>Low</th>\n",
              "      <th>Close</th>\n",
              "      <th>Adj Close</th>\n",
              "      <th>Volume</th>\n",
              "    </tr>\n",
              "    <tr>\n",
              "      <th>Date</th>\n",
              "      <th></th>\n",
              "      <th></th>\n",
              "      <th></th>\n",
              "      <th></th>\n",
              "      <th></th>\n",
              "      <th></th>\n",
              "    </tr>\n",
              "  </thead>\n",
              "  <tbody>\n",
              "    <tr>\n",
              "      <th>2021-07-02</th>\n",
              "      <td>137.899994</td>\n",
              "      <td>140.000000</td>\n",
              "      <td>137.750000</td>\n",
              "      <td>139.960007</td>\n",
              "      <td>139.960007</td>\n",
              "      <td>78852600</td>\n",
              "    </tr>\n",
              "    <tr>\n",
              "      <th>2021-07-06</th>\n",
              "      <td>140.070007</td>\n",
              "      <td>143.149994</td>\n",
              "      <td>140.070007</td>\n",
              "      <td>142.020004</td>\n",
              "      <td>142.020004</td>\n",
              "      <td>108181800</td>\n",
              "    </tr>\n",
              "    <tr>\n",
              "      <th>2021-07-07</th>\n",
              "      <td>143.539993</td>\n",
              "      <td>144.889999</td>\n",
              "      <td>142.660004</td>\n",
              "      <td>144.570007</td>\n",
              "      <td>144.570007</td>\n",
              "      <td>104911600</td>\n",
              "    </tr>\n",
              "    <tr>\n",
              "      <th>2021-07-08</th>\n",
              "      <td>141.580002</td>\n",
              "      <td>144.059998</td>\n",
              "      <td>140.669998</td>\n",
              "      <td>143.240005</td>\n",
              "      <td>143.240005</td>\n",
              "      <td>105575500</td>\n",
              "    </tr>\n",
              "    <tr>\n",
              "      <th>2021-07-09</th>\n",
              "      <td>142.750000</td>\n",
              "      <td>145.649994</td>\n",
              "      <td>142.649994</td>\n",
              "      <td>145.110001</td>\n",
              "      <td>145.110001</td>\n",
              "      <td>99788400</td>\n",
              "    </tr>\n",
              "  </tbody>\n",
              "</table>\n",
              "</div>"
            ],
            "text/plain": [
              "                  Open        High  ...   Adj Close     Volume\n",
              "Date                                ...                       \n",
              "2021-07-02  137.899994  140.000000  ...  139.960007   78852600\n",
              "2021-07-06  140.070007  143.149994  ...  142.020004  108181800\n",
              "2021-07-07  143.539993  144.889999  ...  144.570007  104911600\n",
              "2021-07-08  141.580002  144.059998  ...  143.240005  105575500\n",
              "2021-07-09  142.750000  145.649994  ...  145.110001   99788400\n",
              "\n",
              "[5 rows x 6 columns]"
            ]
          },
          "metadata": {
            "tags": []
          },
          "execution_count": 180
        }
      ]
    },
    {
      "cell_type": "code",
      "metadata": {
        "colab": {
          "base_uri": "https://localhost:8080/",
          "height": 533
        },
        "id": "VqDTsLUVpR7P",
        "outputId": "a8324fdb-12a1-4461-b5d2-be13560d29b9"
      },
      "source": [
        "# closing price history chart\n",
        "\n",
        "sns.set_theme(style=\"whitegrid\")\n",
        "plt.figure(figsize = (15, 8))\n",
        "plt.plot(df['Close'], label = 'Close price')\n",
        "plt.title('Daily price Chart for %s' %ticker, fontsize = 24)\n",
        "plt.xlabel('Time', fontsize = 20)\n",
        "plt.ylabel('Price($)', fontsize = 20)\n",
        "plt.legend()\n",
        "plt.show()\n"
      ],
      "execution_count": 82,
      "outputs": [
        {
          "output_type": "display_data",
          "data": {
            "image/png": "[encoded data removed]",
            "text/plain": [
              "<Figure size 1080x576 with 1 Axes>"
            ]
          },
          "metadata": {
            "tags": []
          }
        }
      ]
    },
    {
      "cell_type": "code",
      "metadata": {
        "colab": {
          "base_uri": "https://localhost:8080/"
        },
        "id": "Vr7hXWeLoJno",
        "outputId": "8ba3a575-6db1-42e3-d06d-3329b0165f9e"
      },
      "source": [
        "# creating a numpy array for closing price only\n",
        "data = df.filter(['Close'])\n",
        "\n",
        "close = data.values\n",
        "\n",
        "# setting the train-test ratio\n",
        "len_train = math.ceil(len(close) * 0.7)\n",
        "len_train"
      ],
      "execution_count": 66,
      "outputs": [
        {
          "output_type": "execute_result",
          "data": {
            "text/plain": [
              "1677"
            ]
          },
          "metadata": {
            "tags": []
          },
          "execution_count": 66
        }
      ]
    },
    {
      "cell_type": "code",
      "metadata": {
        "colab": {
          "base_uri": "https://localhost:8080/"
        },
        "id": "HYU78XjGoJqK",
        "outputId": "b9ef5e84-15aa-4ec9-f14c-3e4ae1a4ac6d"
      },
      "source": [
        "# transforming closing price with min-max scaler\n",
        "\n",
        "scaler = MinMaxScaler(feature_range = (0,1))\n",
        "scaled_close = scaler.fit_transform(close)\n",
        "scaled_close"
      ],
      "execution_count": 67,
      "outputs": [
        {
          "output_type": "execute_result",
          "data": {
            "text/plain": [
              "array([[0.00563641],\n",
              "       [0.00623817],\n",
              "       [0.00748798],\n",
              "       ...,\n",
              "       [0.99588302],\n",
              "       [0.98574291],\n",
              "       [1.        ]])"
            ]
          },
          "metadata": {
            "tags": []
          },
          "execution_count": 67
        }
      ]
    },
    {
      "cell_type": "code",
      "metadata": {
        "colab": {
          "base_uri": "https://localhost:8080/"
        },
        "id": "E3gk09J1okJ6",
        "outputId": "f72a25aa-b203-4a64-8ad1-90e5a8a429f2"
      },
      "source": [
        "# train-test split\n",
        "train_data = scaled_close[0:len_train, :]\n",
        "\n",
        "x_train = []\n",
        "y_train = []\n",
        "\n",
        "for i in range (60, len(train_data)):\n",
        "    x_train.append(train_data[i-60:i, 0])\n",
        "    y_train.append(train_data[i, 0])\n",
        "    \n",
        "    # checking data for first pass\n",
        "    if (i <= 60):\n",
        "        print(x_train)\n",
        "        print('*******')\n",
        "        print(y_train)\n",
        "    # checking data for second pass    \n",
        "    if (i <= 61):\n",
        "        print(x_train)\n",
        "        print('*******')\n",
        "        print(y_train)"
      ],
      "execution_count": 68,
      "outputs": [
        {
          "output_type": "stream",
          "text": [
            "[array([0.00563641, 0.00623817, 0.00748798, 0.00867789, 0.00849546,\n",
            "       0.00890661, 0.00871873, 0.00840288, 0.00797266, 0.00930416,\n",
            "       0.01050496, 0.01013465, 0.00810608, 0.01004207, 0.00813603,\n",
            "       0.01528366, 0.01473091, 0.01545248, 0.0170127 , 0.01795754,\n",
            "       0.01787858, 0.01758723, 0.01882888, 0.019997  , 0.02132034,\n",
            "       0.02345782, 0.02794788, 0.02801595, 0.03051559, 0.03238349,\n",
            "       0.0291732 , 0.03040939, 0.03038488, 0.03385114, 0.03335829,\n",
            "       0.03427046, 0.03590965, 0.03682183, 0.03944943, 0.04136362,\n",
            "       0.04191637, 0.04210971, 0.03883678, 0.03804713, 0.03816422,\n",
            "       0.04124111, 0.04210699, 0.04396673, 0.0483506 , 0.0541994 ,\n",
            "       0.05310479, 0.05310751, 0.05733618, 0.05865952, 0.05771738,\n",
            "       0.05685696, 0.05596112, 0.05893724, 0.06097943, 0.06183442])]\n",
            "*******\n",
            "[0.05972144312109347]\n",
            "[array([0.00563641, 0.00623817, 0.00748798, 0.00867789, 0.00849546,\n",
            "       0.00890661, 0.00871873, 0.00840288, 0.00797266, 0.00930416,\n",
            "       0.01050496, 0.01013465, 0.00810608, 0.01004207, 0.00813603,\n",
            "       0.01528366, 0.01473091, 0.01545248, 0.0170127 , 0.01795754,\n",
            "       0.01787858, 0.01758723, 0.01882888, 0.019997  , 0.02132034,\n",
            "       0.02345782, 0.02794788, 0.02801595, 0.03051559, 0.03238349,\n",
            "       0.0291732 , 0.03040939, 0.03038488, 0.03385114, 0.03335829,\n",
            "       0.03427046, 0.03590965, 0.03682183, 0.03944943, 0.04136362,\n",
            "       0.04191637, 0.04210971, 0.03883678, 0.03804713, 0.03816422,\n",
            "       0.04124111, 0.04210699, 0.04396673, 0.0483506 , 0.0541994 ,\n",
            "       0.05310479, 0.05310751, 0.05733618, 0.05865952, 0.05771738,\n",
            "       0.05685696, 0.05596112, 0.05893724, 0.06097943, 0.06183442])]\n",
            "*******\n",
            "[0.05972144312109347]\n",
            "[array([0.00563641, 0.00623817, 0.00748798, 0.00867789, 0.00849546,\n",
            "       0.00890661, 0.00871873, 0.00840288, 0.00797266, 0.00930416,\n",
            "       0.01050496, 0.01013465, 0.00810608, 0.01004207, 0.00813603,\n",
            "       0.01528366, 0.01473091, 0.01545248, 0.0170127 , 0.01795754,\n",
            "       0.01787858, 0.01758723, 0.01882888, 0.019997  , 0.02132034,\n",
            "       0.02345782, 0.02794788, 0.02801595, 0.03051559, 0.03238349,\n",
            "       0.0291732 , 0.03040939, 0.03038488, 0.03385114, 0.03335829,\n",
            "       0.03427046, 0.03590965, 0.03682183, 0.03944943, 0.04136362,\n",
            "       0.04191637, 0.04210971, 0.03883678, 0.03804713, 0.03816422,\n",
            "       0.04124111, 0.04210699, 0.04396673, 0.0483506 , 0.0541994 ,\n",
            "       0.05310479, 0.05310751, 0.05733618, 0.05865952, 0.05771738,\n",
            "       0.05685696, 0.05596112, 0.05893724, 0.06097943, 0.06183442]), array([0.00623817, 0.00748798, 0.00867789, 0.00849546, 0.00890661,\n",
            "       0.00871873, 0.00840288, 0.00797266, 0.00930416, 0.01050496,\n",
            "       0.01013465, 0.00810608, 0.01004207, 0.00813603, 0.01528366,\n",
            "       0.01473091, 0.01545248, 0.0170127 , 0.01795754, 0.01787858,\n",
            "       0.01758723, 0.01882888, 0.019997  , 0.02132034, 0.02345782,\n",
            "       0.02794788, 0.02801595, 0.03051559, 0.03238349, 0.0291732 ,\n",
            "       0.03040939, 0.03038488, 0.03385114, 0.03335829, 0.03427046,\n",
            "       0.03590965, 0.03682183, 0.03944943, 0.04136362, 0.04191637,\n",
            "       0.04210971, 0.03883678, 0.03804713, 0.03816422, 0.04124111,\n",
            "       0.04210699, 0.04396673, 0.0483506 , 0.0541994 , 0.05310479,\n",
            "       0.05310751, 0.05733618, 0.05865952, 0.05771738, 0.05685696,\n",
            "       0.05596112, 0.05893724, 0.06097943, 0.06183442, 0.05972144])]\n",
            "*******\n",
            "[0.05972144312109347, 0.056914134229500604]\n"
          ],
          "name": "stdout"
        }
      ]
    },
    {
      "cell_type": "code",
      "metadata": {
        "colab": {
          "base_uri": "https://localhost:8080/"
        },
        "id": "nSdckXKsokL7",
        "outputId": "0014c8a8-440e-49b7-e7a9-ae3bcbff4309"
      },
      "source": [
        "# converting x_train and y_train to numpy array\n",
        "x_train = np.array(x_train)\n",
        "y_train = np.array(y_train)\n",
        "\n",
        "x_train.shape"
      ],
      "execution_count": 69,
      "outputs": [
        {
          "output_type": "execute_result",
          "data": {
            "text/plain": [
              "(1617, 60)"
            ]
          },
          "metadata": {
            "tags": []
          },
          "execution_count": 69
        }
      ]
    },
    {
      "cell_type": "code",
      "metadata": {
        "colab": {
          "base_uri": "https://localhost:8080/"
        },
        "id": "7WTrOsCeokPM",
        "outputId": "42bb4178-f9db-46f6-cf3a-f8e869eee662"
      },
      "source": [
        "# reshaping the data\n",
        "\n",
        "x_train = np.reshape(x_train, (x_train.shape[0], 60, 1))\n",
        "x_train.shape"
      ],
      "execution_count": 70,
      "outputs": [
        {
          "output_type": "execute_result",
          "data": {
            "text/plain": [
              "(1617, 60, 1)"
            ]
          },
          "metadata": {
            "tags": []
          },
          "execution_count": 70
        }
      ]
    },
    {
      "cell_type": "code",
      "metadata": {
        "id": "0Vj1tmwrgBMt"
      },
      "source": [
        "# model fitting\n",
        "\n",
        "from tensorflow.keras.layers import Dense, LSTM\n",
        "import tensorflow as tf\n",
        "\n",
        "model = tf.keras.Sequential()\n",
        "\n",
        "model.add(LSTM(50, return_sequences = True, input_shape = (x_train.shape[1], 1)))\n",
        "model.add(LSTM(50, return_sequences = False))\n",
        "model.add(Dense(25))\n",
        "model.add(Dense(1))\n"
      ],
      "execution_count": 71,
      "outputs": []
    },
    {
      "cell_type": "code",
      "metadata": {
        "id": "WtOBuFKFmu47"
      },
      "source": [
        "# compile the model\n",
        "\n",
        "model.compile(optimizer = 'adam', loss = 'mean_squared_error')\n"
      ],
      "execution_count": 83,
      "outputs": []
    },
    {
      "cell_type": "code",
      "metadata": {
        "colab": {
          "base_uri": "https://localhost:8080/"
        },
        "id": "UZ5OabHMp57q",
        "outputId": "ac9e1856-e690-4e2b-9b56-67424418f611"
      },
      "source": [
        "# model training\n",
        "model.fit(x_train, y_train, batch_size = 1, epochs =  2)"
      ],
      "execution_count": 84,
      "outputs": [
        {
          "output_type": "stream",
          "text": [
            "Epoch 1/2\n",
            "1617/1617 [==============================] - 38s 22ms/step - loss: 1.3122e-04\n",
            "Epoch 2/2\n",
            "1617/1617 [==============================] - 35s 22ms/step - loss: 1.0027e-04\n"
          ],
          "name": "stdout"
        },
        {
          "output_type": "execute_result",
          "data": {
            "text/plain": [
              "<tensorflow.python.keras.callbacks.History at 0x7f93cecab650>"
            ]
          },
          "metadata": {
            "tags": []
          },
          "execution_count": 84
        }
      ]
    },
    {
      "cell_type": "markdown",
      "metadata": {
        "id": "LLv8qOSQtbiY"
      },
      "source": [
        "the above parameters are fitted after a hit and trial process to get the minimum squared error"
      ]
    },
    {
      "cell_type": "code",
      "metadata": {
        "id": "vUIxhL9MqFCI"
      },
      "source": [
        "# creating the test data\n",
        "\n",
        "test_data = scaled_close[len_train - 60: , :]\n",
        "\n",
        "x_test = []\n",
        "y_test = close[len_train: , :]\n",
        "\n",
        "for i in range(60, len(test_data)):\n",
        "  x_test.append(test_data[i-60:i, 0])"
      ],
      "execution_count": 85,
      "outputs": []
    },
    {
      "cell_type": "code",
      "metadata": {
        "id": "d4vZCltNrwwM"
      },
      "source": [
        "# convert test data to numpy array and reshaping\n",
        "\n",
        "x_test = np.array(x_test)\n",
        "\n",
        "x_test = np.reshape(x_test, (x_test.shape[0], x_test.shape[1], 1))"
      ],
      "execution_count": 86,
      "outputs": []
    },
    {
      "cell_type": "code",
      "metadata": {
        "id": "SxW6pv9wr5P2"
      },
      "source": [
        "# predict output with model\n",
        "pred = model.predict(x_test)\n",
        "pred = scaler.inverse_transform(pred)"
      ],
      "execution_count": 87,
      "outputs": []
    },
    {
      "cell_type": "code",
      "metadata": {
        "colab": {
          "base_uri": "https://localhost:8080/"
        },
        "id": "gnsXS9m93BZt",
        "outputId": "8d299a99-8d10-4e7d-a020-ea84f07e36e3"
      },
      "source": [
        "# rms error\n",
        "rmse = np.sqrt(np.mean(pred - y_test)**2 ) \n",
        "rmse"
      ],
      "execution_count": 88,
      "outputs": [
        {
          "output_type": "execute_result",
          "data": {
            "text/plain": [
              "1.7088406809857297"
            ]
          },
          "metadata": {
            "tags": []
          },
          "execution_count": 88
        }
      ]
    },
    {
      "cell_type": "code",
      "metadata": {
        "colab": {
          "base_uri": "https://localhost:8080/",
          "height": 660
        },
        "id": "FjqgFp1q3Vn0",
        "outputId": "82dcfd18-7676-42de-9eaa-7371649960fb"
      },
      "source": [
        "# plotting the predicted price with actual price\n",
        "\n",
        "# setting the data to plot\n",
        "train = data[:len_train]\n",
        "valid = data[len_train:]\n",
        "valid['Predictions'] = pred\n",
        "\n",
        "# price visualization \n",
        "plt.figure(figsize = (16, 8))\n",
        "plt.title('Predicted price comparison with actual price of %s' %ticker)\n",
        "\n",
        "\n",
        "plt.plot(train['Close'])\n",
        "plt.plot(valid[['Close', 'Predictions']])\n",
        "plt.xlabel('Date', fontsize = 20)\n",
        "plt.ylabel('Close Price($)', fontsize = 20)\n",
        "plt.legend(['Train', 'Validation', 'Prediction'])\n",
        "plt.show()\n",
        "\n"
      ],
      "execution_count": 148,
      "outputs": [
        {
          "output_type": "stream",
          "text": [
            "/usr/local/lib/python3.7/dist-packages/ipykernel_launcher.py:6: SettingWithCopyWarning:\n",
            "\n",
            "\n",
            "A value is trying to be set on a copy of a slice from a DataFrame.\n",
            "Try using .loc[row_indexer,col_indexer] = value instead\n",
            "\n",
            "See the caveats in the documentation: https://pandas.pydata.org/pandas-docs/stable/user_guide/indexing.html#returning-a-view-versus-a-copy\n",
            "\n"
          ],
          "name": "stderr"
        },
        {
          "output_type": "display_data",
          "data": {
            "image/png": "[encoded data removed]",
            "text/plain": [
              "<Figure size 1152x576 with 1 Axes>"
            ]
          },
          "metadata": {
            "tags": []
          }
        }
      ]
    },
    {
      "cell_type": "code",
      "metadata": {
        "colab": {
          "base_uri": "https://localhost:8080/",
          "height": 586
        },
        "id": "XOy6lM0llnRt",
        "outputId": "335dd490-0b77-46df-e241-69be1c452ede"
      },
      "source": [
        "# validation and predicted prices and % error\n",
        "\n",
        "valid['pct_Difference'] = abs(1 - valid['Predictions'] / valid['Close']) * 100\n",
        "valid\n"
      ],
      "execution_count": 149,
      "outputs": [
        {
          "output_type": "stream",
          "text": [
            "/usr/local/lib/python3.7/dist-packages/ipykernel_launcher.py:3: SettingWithCopyWarning:\n",
            "\n",
            "\n",
            "A value is trying to be set on a copy of a slice from a DataFrame.\n",
            "Try using .loc[row_indexer,col_indexer] = value instead\n",
            "\n",
            "See the caveats in the documentation: https://pandas.pydata.org/pandas-docs/stable/user_guide/indexing.html#returning-a-view-versus-a-copy\n",
            "\n"
          ],
          "name": "stderr"
        },
        {
          "output_type": "execute_result",
          "data": {
            "text/html": [
              "<div>\n",
              "<style scoped>\n",
              "    .dataframe tbody tr th:only-of-type {\n",
              "        vertical-align: middle;\n",
              "    }\n",
              "\n",
              "    .dataframe tbody tr th {\n",
              "        vertical-align: top;\n",
              "    }\n",
              "\n",
              "    .dataframe thead th {\n",
              "        text-align: right;\n",
              "    }\n",
              "</style>\n",
              "<table border=\"1\" class=\"dataframe\">\n",
              "  <thead>\n",
              "    <tr style=\"text-align: right;\">\n",
              "      <th></th>\n",
              "      <th>Close</th>\n",
              "      <th>Predictions</th>\n",
              "      <th>pct_Difference</th>\n",
              "    </tr>\n",
              "    <tr>\n",
              "      <th>Date</th>\n",
              "      <th></th>\n",
              "      <th></th>\n",
              "      <th></th>\n",
              "    </tr>\n",
              "  </thead>\n",
              "  <tbody>\n",
              "    <tr>\n",
              "      <th>2018-08-31</th>\n",
              "      <td>56.907501</td>\n",
              "      <td>56.142033</td>\n",
              "      <td>1.345110</td>\n",
              "    </tr>\n",
              "    <tr>\n",
              "      <th>2018-09-04</th>\n",
              "      <td>57.090000</td>\n",
              "      <td>56.773479</td>\n",
              "      <td>0.554424</td>\n",
              "    </tr>\n",
              "    <tr>\n",
              "      <th>2018-09-05</th>\n",
              "      <td>56.717499</td>\n",
              "      <td>57.296535</td>\n",
              "      <td>1.020914</td>\n",
              "    </tr>\n",
              "    <tr>\n",
              "      <th>2018-09-06</th>\n",
              "      <td>55.775002</td>\n",
              "      <td>57.525600</td>\n",
              "      <td>3.138680</td>\n",
              "    </tr>\n",
              "    <tr>\n",
              "      <th>2018-09-07</th>\n",
              "      <td>55.325001</td>\n",
              "      <td>57.315022</td>\n",
              "      <td>3.596965</td>\n",
              "    </tr>\n",
              "    <tr>\n",
              "      <th>...</th>\n",
              "      <td>...</td>\n",
              "      <td>...</td>\n",
              "      <td>...</td>\n",
              "    </tr>\n",
              "    <tr>\n",
              "      <th>2021-07-02</th>\n",
              "      <td>139.960007</td>\n",
              "      <td>140.282135</td>\n",
              "      <td>0.230157</td>\n",
              "    </tr>\n",
              "    <tr>\n",
              "      <th>2021-07-06</th>\n",
              "      <td>142.020004</td>\n",
              "      <td>141.622726</td>\n",
              "      <td>0.279734</td>\n",
              "    </tr>\n",
              "    <tr>\n",
              "      <th>2021-07-07</th>\n",
              "      <td>144.570007</td>\n",
              "      <td>143.335281</td>\n",
              "      <td>0.854068</td>\n",
              "    </tr>\n",
              "    <tr>\n",
              "      <th>2021-07-08</th>\n",
              "      <td>143.240005</td>\n",
              "      <td>145.415451</td>\n",
              "      <td>1.518742</td>\n",
              "    </tr>\n",
              "    <tr>\n",
              "      <th>2021-07-09</th>\n",
              "      <td>145.110001</td>\n",
              "      <td>146.541840</td>\n",
              "      <td>0.986727</td>\n",
              "    </tr>\n",
              "  </tbody>\n",
              "</table>\n",
              "<p>718 rows × 3 columns</p>\n",
              "</div>"
            ],
            "text/plain": [
              "                 Close  Predictions  pct_Difference\n",
              "Date                                               \n",
              "2018-08-31   56.907501    56.142033        1.345110\n",
              "2018-09-04   57.090000    56.773479        0.554424\n",
              "2018-09-05   56.717499    57.296535        1.020914\n",
              "2018-09-06   55.775002    57.525600        3.138680\n",
              "2018-09-07   55.325001    57.315022        3.596965\n",
              "...                ...          ...             ...\n",
              "2021-07-02  139.960007   140.282135        0.230157\n",
              "2021-07-06  142.020004   141.622726        0.279734\n",
              "2021-07-07  144.570007   143.335281        0.854068\n",
              "2021-07-08  143.240005   145.415451        1.518742\n",
              "2021-07-09  145.110001   146.541840        0.986727\n",
              "\n",
              "[718 rows x 3 columns]"
            ]
          },
          "metadata": {
            "tags": []
          },
          "execution_count": 149
        }
      ]
    },
    {
      "cell_type": "code",
      "metadata": {
        "colab": {
          "base_uri": "https://localhost:8080/"
        },
        "id": "BQ1itQs0clxY",
        "outputId": "4fdddd4d-cfa1-4c05-fc18-42c73dc62e35"
      },
      "source": [
        "# minimum and maximum % difference\n",
        "\n",
        "print(valid['pct_Difference'].max())\n",
        "print(valid['pct_Difference'].min())"
      ],
      "execution_count": 138,
      "outputs": [
        {
          "output_type": "stream",
          "text": [
            "16.063012290200863\n",
            "0.020355026719087732\n"
          ],
          "name": "stdout"
        }
      ]
    },
    {
      "cell_type": "code",
      "metadata": {
        "colab": {
          "base_uri": "https://localhost:8080/",
          "height": 301
        },
        "id": "PgHT7GbbjgVP",
        "outputId": "b11260d4-a726-4c89-dcea-79e61f918981"
      },
      "source": [
        "# Distribution of errors\n",
        "sns.histplot(data = valid, x = 'pct_Difference', discrete=True, cbar = True)\n",
        "plt.title('Distribution of % error')\n",
        "plt.show()\n"
      ],
      "execution_count": 142,
      "outputs": [
        {
          "output_type": "display_data",
          "data": {
            "image/png": "[encoded data removed]",
            "text/plain": [
              "<Figure size 432x288 with 1 Axes>"
            ]
          },
          "metadata": {
            "tags": []
          }
        }
      ]
    },
    {
      "cell_type": "code",
      "metadata": {
        "colab": {
          "base_uri": "https://localhost:8080/",
          "height": 301
        },
        "id": "pIkDLbrZcl1L",
        "outputId": "0219d64f-eb9d-4bf6-d50a-60bf0cbe7e8e"
      },
      "source": [
        "# probability distribution of errors\n",
        "sns.set_theme(style=\"whitegrid\")\n",
        "sns.histplot(data = valid, x = 'pct_Difference', kde = True, stat=\"probability\", discrete=True, cbar = True)\n",
        "plt.title('Prob. Distribution of % error')\n",
        "plt.show()\n"
      ],
      "execution_count": 143,
      "outputs": [
        {
          "output_type": "display_data",
          "data": {
            "image/png": "[encoded data removed]",
            "text/plain": [
              "<Figure size 432x288 with 1 Axes>"
            ]
          },
          "metadata": {
            "tags": []
          }
        }
      ]
    },
    {
      "cell_type": "markdown",
      "metadata": {
        "id": "pc5uWnVHtzL1"
      },
      "source": [
        "the probability of error more than 2.5% price difference is very less, hence the model is well fitted (also the RMS error is very low)"
      ]
    },
    {
      "cell_type": "code",
      "metadata": {
        "id": "dfqCvN4Boi4A"
      },
      "source": [
        ""
      ],
      "execution_count": null,
      "outputs": []
    }
  ]
}